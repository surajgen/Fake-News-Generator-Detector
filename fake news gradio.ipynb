{
 "cells": [
  {
   "cell_type": "code",
   "execution_count": null,
   "id": "780564c2-9b8e-4333-bb2b-8c631e6e343f",
   "metadata": {},
   "outputs": [],
   "source": [
    "# fake_news_gradio_app.py\n",
    "!pip install gradio\n",
    "# --- Imports ---\n",
    "from transformers import AutoTokenizer, AutoModelForSequenceClassification, pipeline\n",
    "import gradio as gr # Import Gradio library\n",
    "\n",
    "# --- Configuration (Models) ---\n",
    "GENERATION_MODEL_NAME = \"gpt2-medium\"\n",
    "DETECTION_MODEL_NAME =  \"mrm8488/bert-tiny-finetuned-fake-news-detection\"\n",
    "\n",
    "# --- Load Models (Cached by Hugging Face) ---\n",
    "# These functions will load the models once when the Gradio app starts.\n",
    "# Gradio handles caching automatically, similar to Streamlit's @st.cache_resource.\n",
    "\n",
    "def load_generation_pipeline():\n",
    "    \"\"\"Loads the text generation pipeline.\"\"\"\n",
    "    print(f\"Loading generation model: {GENERATION_MODEL_NAME}\")\n",
    "    return pipeline(\"text-generation\", model=GENERATION_MODEL_NAME)\n",
    "\n",
    "def load_detection_pipeline():\n",
    "    \"\"\"Loads the fake news detection pipeline.\"\"\"\n",
    "    print(f\"Loading detection model: {DETECTION_MODEL_NAME}\")\n",
    "    tokenizer = AutoTokenizer.from_pretrained(DETECTION_MODEL_NAME)\n",
    "    model = AutoModelForSequenceClassification.from_pretrained(DETECTION_MODEL_NAME)\n",
    "    return pipeline(\"text-classification\", model=model, tokenizer=tokenizer)\n",
    "\n",
    "# Initialize pipelines globally so they are loaded once\n",
    "generator = load_generation_pipeline()\n",
    "detector = load_detection_pipeline()\n",
    "\n",
    "# --- Core Logic Functions for Gradio Interface ---\n",
    "\n",
    "def generate_news_func(topic: str) -> str:\n",
    "    \"\"\"Generates news based on the given topic.\"\"\"\n",
    "    if not topic:\n",
    "        return \"Please enter a topic to generate news.\"\n",
    "\n",
    "    prompt = f\"a shocking news report just came in regarding {topic}. Sources say that\"\n",
    "    generated_result = generator(prompt, max_new_tokens=100, num_return_sequences=1, truncation=True)\n",
    "    generated_news = generated_result[0]['generated_text']\n",
    "    return generated_news\n",
    "    "
   ]
  }
 ],
 "metadata": {
  "kernelspec": {
   "display_name": "Python 3 (ipykernel)",
   "language": "python",
   "name": "python3"
  },
  "language_info": {
   "codemirror_mode": {
    "name": "ipython",
    "version": 3
   },
   "file_extension": ".py",
   "mimetype": "text/x-python",
   "name": "python",
   "nbconvert_exporter": "python",
   "pygments_lexer": "ipython3",
   "version": "3.10.5"
  }
 },
 "nbformat": 4,
 "nbformat_minor": 5
}
